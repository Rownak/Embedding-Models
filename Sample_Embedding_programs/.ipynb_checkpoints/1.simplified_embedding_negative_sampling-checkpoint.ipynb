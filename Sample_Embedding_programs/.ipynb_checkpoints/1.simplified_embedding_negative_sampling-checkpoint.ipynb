{
 "cells": [
  {
   "cell_type": "code",
   "execution_count": 1,
   "metadata": {},
   "outputs": [
    {
     "name": "stdout",
     "output_type": "stream",
     "text": [
      "WARNING:tensorflow:From /Users/afarhan/opt/anaconda3/envs/dynamic_embedding/lib/python3.6/site-packages/tensorflow_core/python/compat/v2_compat.py:65: disable_resource_variables (from tensorflow.python.ops.variable_scope) is deprecated and will be removed in a future version.\n",
      "Instructions for updating:\n",
      "non-resource variables are not supported in the long term\n"
     ]
    }
   ],
   "source": [
    "import tensorflow.compat.v1 as tf\n",
    "tf.disable_v2_behavior()\n",
    "tf.disable_eager_execution()\n",
    "import pandas as pd\n",
    "from sklearn.preprocessing import MinMaxScaler"
   ]
  },
  {
   "cell_type": "markdown",
   "metadata": {},
   "source": [
    "# Dataset Creation"
   ]
  },
  {
   "cell_type": "markdown",
   "metadata": {},
   "source": [
    "# Dataset\n",
    "the distances between even numbers are 0\n",
    "\n",
    "the distances between odd numbers are 0\n",
    "\n",
    "the distances between a even and a odd number is 1\n"
   ]
  },
  {
   "cell_type": "code",
   "execution_count": 21,
   "metadata": {},
   "outputs": [],
   "source": [
    "import random\n",
    "count = 0\n",
    "couples = []\n",
    "TRAIN_SIZE = 2000\n",
    "while(count<TRAIN_SIZE//3):\n",
    "    r1 = random.randint(0, 99)\n",
    "    r2=r1\n",
    "    while(r2==r1 or r1%2!=r2%2):\n",
    "        r2 = random.randint(0, 99)\n",
    "    couples.append([r1, r2, 0])\n",
    "    count+=1\n",
    "while(count<TRAIN_SIZE):\n",
    "    r1 = random.randint(0, 99)\n",
    "    r2=r1\n",
    "    while(r2==r1 or r1%2==r2%2):\n",
    "        r2 = random.randint(0, 99)\n",
    "    couples.append([r1, r2, 1])\n",
    "    count+=1"
   ]
  },
  {
   "cell_type": "code",
   "execution_count": 42,
   "metadata": {},
   "outputs": [
    {
     "data": {
      "text/plain": [
       "array([[79, 33,  0],\n",
       "       [93, 76,  1],\n",
       "       [34, 22,  0],\n",
       "       [38, 52,  0],\n",
       "       [26,  6,  0],\n",
       "       [ 0, 14,  0],\n",
       "       [66, 72,  0],\n",
       "       [40,  1,  1],\n",
       "       [48, 77,  1],\n",
       "       [57, 87,  0]])"
      ]
     },
     "execution_count": 42,
     "metadata": {},
     "output_type": "execute_result"
    }
   ],
   "source": []
  },
  {
   "cell_type": "code",
   "execution_count": 23,
   "metadata": {},
   "outputs": [
    {
     "data": {
      "text/plain": [
       "(2000, 3)"
      ]
     },
     "execution_count": 23,
     "metadata": {},
     "output_type": "execute_result"
    }
   ],
   "source": [
    "import numpy as np\n",
    "couples = np.array(couples)\n",
    "np.random.shuffle(couples)\n",
    "couples.shape"
   ]
  },
  {
   "cell_type": "code",
   "execution_count": 24,
   "metadata": {},
   "outputs": [
    {
     "data": {
      "text/plain": [
       "array([[79, 33,  0],\n",
       "       [93, 76,  1],\n",
       "       [34, 22,  0],\n",
       "       [38, 52,  0],\n",
       "       [26,  6,  0],\n",
       "       [ 0, 14,  0],\n",
       "       [66, 72,  0],\n",
       "       [40,  1,  1],\n",
       "       [48, 77,  1],\n",
       "       [57, 87,  0]])"
      ]
     },
     "execution_count": 24,
     "metadata": {},
     "output_type": "execute_result"
    }
   ],
   "source": []
  },
  {
   "cell_type": "markdown",
   "metadata": {},
   "source": [
    "# Insert data into pandas"
   ]
  },
  {
   "cell_type": "code",
   "execution_count": 25,
   "metadata": {},
   "outputs": [
    {
     "data": {
      "text/plain": [
       "'\\nX_training and Y_training can be obtained directly from couples numpy array  \\nPanda is used only to show how one can read data from csv file\\n'"
      ]
     },
     "execution_count": 25,
     "metadata": {},
     "output_type": "execute_result"
    }
   ],
   "source": [
    "\n",
    "import pandas as pd\n",
    "training_data_df = pd.DataFrame(couples, columns = ['obj1','obj2','dist'])\n",
    "\n",
    "\"\"\"\n",
    "X_training and Y_training can be obtained directly from couples numpy array  \n",
    "Panda is used only to show how one can read data from csv file\n",
    "\"\"\"\n",
    "# If your train data is a csv file, load training data set from CSV file into panda dataframe\n",
    "# training_data_df = pd.read_csv(\"sales_data_training.csv\", dtype=float)"
   ]
  },
  {
   "cell_type": "code",
   "execution_count": 26,
   "metadata": {},
   "outputs": [],
   "source": [
    "# Pull out columns for X (data to train with) and Y (value to predict)\n",
    "X_training = training_data_df.drop('dist', axis=1).values\n",
    "Y_training = training_data_df[['dist']].values"
   ]
  },
  {
   "cell_type": "code",
   "execution_count": 27,
   "metadata": {},
   "outputs": [
    {
     "name": "stdout",
     "output_type": "stream",
     "text": [
      "X_training shape: (2000,)\n",
      "Y_training shape: (2000, 1)\n"
     ]
    }
   ],
   "source": [
    "# Reshaping the data\n",
    "# X_training is: [[0,2], [1, 3], [4,5], .....]\n",
    "# X1_training: [0, 1, 4, ....]\n",
    "# X2_training: [2, 3, 5, ....]\n",
    "\n",
    "X1_training = X_training.T[0]\n",
    "X2_training = X_training.T[1]\n",
    "print(\"X_training shape:\",X1_training.shape)\n",
    "print(\"Y_training shape:\",Y_training.shape)"
   ]
  },
  {
   "cell_type": "code",
   "execution_count": null,
   "metadata": {},
   "outputs": [],
   "source": []
  },
  {
   "cell_type": "code",
   "execution_count": 28,
   "metadata": {},
   "outputs": [],
   "source": [
    "TOTAL_OBJECTS = 100\n",
    "EMBEDDING_DIM = 32\n",
    "SCALE_FACTOR = 1"
   ]
  },
  {
   "cell_type": "code",
   "execution_count": 29,
   "metadata": {},
   "outputs": [],
   "source": [
    "# Input Layer\n",
    "with tf.variable_scope('input'):\n",
    "    X1 = tf.placeholder(tf.int32, shape=(None,))\n",
    "    X2 = tf.placeholder(tf.int32, shape=(None,))"
   ]
  },
  {
   "cell_type": "code",
   "execution_count": 30,
   "metadata": {},
   "outputs": [
    {
     "name": "stdout",
     "output_type": "stream",
     "text": [
      "WARNING:tensorflow:From <ipython-input-30-3b21489ab776>:4: calling RandomUniform.__init__ (from tensorflow.python.ops.init_ops) with dtype is deprecated and will be removed in a future version.\n",
      "Instructions for updating:\n",
      "Call initializer instance with the dtype argument instead of passing it to the constructor\n"
     ]
    }
   ],
   "source": [
    "# Embeddings Layer\n",
    "with tf.variable_scope('embeddings_layer'):\n",
    "    embeddings = tf.get_variable(name=\"embeddings\", shape=[TOTAL_OBJECTS, EMBEDDING_DIM], initializer = tf.random_uniform_initializer(\n",
    "    minval=0, maxval=1, seed=None, dtype=tf.dtypes.float32))"
   ]
  },
  {
   "cell_type": "code",
   "execution_count": 31,
   "metadata": {},
   "outputs": [
    {
     "name": "stdout",
     "output_type": "stream",
     "text": [
      "[[0.91623354 0.26747298 0.2423724  ... 0.10058594 0.4600252  0.63613904]\n",
      " [0.41913784 0.23650217 0.7056508  ... 0.4847958  0.6535034  0.7074803 ]\n",
      " [0.58688176 0.7668133  0.5012708  ... 0.864887   0.49439895 0.76889586]\n",
      " ...\n",
      " [0.26879144 0.03173304 0.22355068 ... 0.28109992 0.22174871 0.28038776]\n",
      " [0.42303908 0.326432   0.3359419  ... 0.72755396 0.71719277 0.18683004]\n",
      " [0.2833662  0.9323002  0.9013381  ... 0.5204444  0.63451254 0.5266093 ]]\n"
     ]
    }
   ],
   "source": [
    "with tf.Session() as session:\n",
    "    session.run(tf.global_variables_initializer())\n",
    "    print(embeddings.eval())"
   ]
  },
  {
   "cell_type": "code",
   "execution_count": 32,
   "metadata": {},
   "outputs": [],
   "source": [
    "# Output Layer\n",
    "with tf.variable_scope('output'):\n",
    "    # getting the embeddings of current and neighbor objects\n",
    "    \"\"\"\n",
    "    # Select the embedding (obj_1) and context (obj_2) vectors for the current timestamp\n",
    "    for example: if obj1= [0,1,2] and timeslot = [0,0,0]\n",
    "    tf.stack([[0,1,2],[0,0,0], axis=1]) = tf.Tensor:shape=(3,2),\n",
    "    numpy.array[[0,0],\n",
    "                [1,0],\n",
    "                [2,0]]\n",
    "    col1=obj1, col2=timeslot\n",
    "    embeddings = [[[e_o0_t0],[e_o0_t1],[e_o0_t2]],\n",
    "                  [[e_o1_t0],[e_o1_t1],[e_o1_t2]],\n",
    "                  [[e_o2_t0],[e_o2_t1],[e_o2_t2]]]\n",
    "    tf.gather_nd(embeddings, tf.stack([obj1, timeslot], axis=1)) = [e_o0_t0, e_o1_t0, e_o2_t0]\n",
    "    obj1_embedding = tf.gather_nd(embeddings, tf.stack([X1, Timestamp], axis=1))\n",
    "    obj2_embedding = tf.gather_nd(embeddings, tf.stack([X2, Timestamp], axis=1))\n",
    "    \"\"\"\n",
    "    obj1_embedding = tf.gather_nd(embeddings, tf.stack([X1], axis=1))\n",
    "    obj2_embedding = tf.gather_nd(embeddings, tf.stack([X2], axis=1))\n",
    "    prediction = tf.scalar_mul(SCALE_FACTOR,\n",
    "                               tf.losses.cosine_distance(tf.nn.l2_normalize(obj1_embedding, axis=1),\n",
    "                                                         tf.nn.l2_normalize(obj2_embedding, axis=1),\n",
    "                                                         axis=1, reduction=tf.losses.Reduction.NONE))"
   ]
  },
  {
   "cell_type": "code",
   "execution_count": 33,
   "metadata": {},
   "outputs": [],
   "source": [
    "# Section Two: Define the cost function of the neural network that will measure prediction accuracy during training\n",
    "with tf.variable_scope('cost'):\n",
    "    Y = tf.placeholder(tf.float32, shape=(None,1))\n",
    "    cost = tf.losses.mean_squared_error(\n",
    "        labels=tf.scalar_mul(SCALE_FACTOR, Y),\n",
    "        predictions=prediction,\n",
    "        reduction=tf.losses.Reduction.SUM)"
   ]
  },
  {
   "cell_type": "code",
   "execution_count": 34,
   "metadata": {},
   "outputs": [],
   "source": [
    "learning_rate = 0.001"
   ]
  },
  {
   "cell_type": "code",
   "execution_count": 35,
   "metadata": {},
   "outputs": [],
   "source": [
    "# Section Three: Define the optimizer function that will be run to optimize the neural network\n",
    "with tf.variable_scope('train'):\n",
    "    optimizer = tf.train.AdamOptimizer(learning_rate).minimize(cost)"
   ]
  },
  {
   "cell_type": "code",
   "execution_count": 36,
   "metadata": {},
   "outputs": [],
   "source": [
    "# Create a summary operation to log the progress of the network\n",
    "with tf.variable_scope('logging'):\n",
    "    tf.summary.scalar('current_cost', cost)\n",
    "    tf.summary.histogram('predicted_value', prediction)\n",
    "    summary = tf.summary.merge_all()"
   ]
  },
  {
   "cell_type": "code",
   "execution_count": 37,
   "metadata": {},
   "outputs": [],
   "source": [
    "RUN_NAME = \"run 1 with 100 epoches\"\n",
    "training_epochs = 2000"
   ]
  },
  {
   "cell_type": "code",
   "execution_count": 38,
   "metadata": {},
   "outputs": [
    {
     "name": "stdout",
     "output_type": "stream",
     "text": [
      "Epoch: 0 - Training Cost: 804.7344360351562\n",
      "Epoch: 20 - Training Cost: 762.7264404296875\n",
      "Epoch: 40 - Training Cost: 721.5533447265625\n",
      "Epoch: 60 - Training Cost: 681.7665405273438\n",
      "Epoch: 80 - Training Cost: 643.7081909179688\n",
      "Epoch: 100 - Training Cost: 607.5062866210938\n",
      "Epoch: 120 - Training Cost: 573.09765625\n",
      "Epoch: 140 - Training Cost: 540.296875\n",
      "Epoch: 160 - Training Cost: 508.8221740722656\n",
      "Epoch: 180 - Training Cost: 478.324951171875\n",
      "Epoch: 200 - Training Cost: 448.4462585449219\n",
      "Epoch: 220 - Training Cost: 418.8818054199219\n",
      "Epoch: 240 - Training Cost: 389.427001953125\n",
      "Epoch: 260 - Training Cost: 360.00408935546875\n",
      "Epoch: 280 - Training Cost: 330.6727294921875\n",
      "Epoch: 300 - Training Cost: 301.62359619140625\n",
      "Epoch: 320 - Training Cost: 273.15484619140625\n",
      "Epoch: 340 - Training Cost: 245.632080078125\n",
      "Epoch: 360 - Training Cost: 219.4398193359375\n",
      "Epoch: 380 - Training Cost: 194.9315185546875\n",
      "Epoch: 400 - Training Cost: 172.38816833496094\n",
      "Epoch: 420 - Training Cost: 151.99102783203125\n",
      "Epoch: 440 - Training Cost: 133.81260681152344\n",
      "Epoch: 460 - Training Cost: 117.82304382324219\n",
      "Epoch: 480 - Training Cost: 103.90835571289062\n",
      "Epoch: 500 - Training Cost: 91.89485168457031\n",
      "Epoch: 520 - Training Cost: 81.57459259033203\n",
      "Epoch: 540 - Training Cost: 72.72791290283203\n",
      "Epoch: 560 - Training Cost: 65.1408920288086\n",
      "Epoch: 580 - Training Cost: 58.61682891845703\n",
      "Epoch: 600 - Training Cost: 52.98264694213867\n",
      "Epoch: 620 - Training Cost: 48.09077072143555\n",
      "Epoch: 640 - Training Cost: 43.81829833984375\n",
      "Epoch: 660 - Training Cost: 40.06442642211914\n",
      "Epoch: 680 - Training Cost: 36.747154235839844\n",
      "Epoch: 700 - Training Cost: 33.799949645996094\n",
      "Epoch: 720 - Training Cost: 31.168689727783203\n",
      "Epoch: 740 - Training Cost: 28.809165954589844\n",
      "Epoch: 760 - Training Cost: 26.684940338134766\n",
      "Epoch: 780 - Training Cost: 24.765731811523438\n",
      "Epoch: 800 - Training Cost: 23.026182174682617\n",
      "Epoch: 820 - Training Cost: 21.44483184814453\n",
      "Epoch: 840 - Training Cost: 20.00344467163086\n",
      "Epoch: 860 - Training Cost: 18.686389923095703\n",
      "Epoch: 880 - Training Cost: 17.480182647705078\n",
      "Epoch: 900 - Training Cost: 16.373138427734375\n",
      "Epoch: 920 - Training Cost: 15.355104446411133\n",
      "Epoch: 940 - Training Cost: 14.4171724319458\n",
      "Epoch: 960 - Training Cost: 13.551556587219238\n",
      "Epoch: 980 - Training Cost: 12.751362800598145\n",
      "Epoch: 1000 - Training Cost: 12.010505676269531\n",
      "Epoch: 1020 - Training Cost: 11.323602676391602\n",
      "Epoch: 1040 - Training Cost: 10.685836791992188\n",
      "Epoch: 1060 - Training Cost: 10.092920303344727\n",
      "Epoch: 1080 - Training Cost: 9.541022300720215\n",
      "Epoch: 1100 - Training Cost: 9.026689529418945\n",
      "Epoch: 1120 - Training Cost: 8.546817779541016\n",
      "Epoch: 1140 - Training Cost: 8.09861946105957\n",
      "Epoch: 1160 - Training Cost: 7.679570198059082\n",
      "Epoch: 1180 - Training Cost: 7.287374496459961\n",
      "Epoch: 1200 - Training Cost: 6.9199628829956055\n",
      "Epoch: 1220 - Training Cost: 6.575451850891113\n",
      "Epoch: 1240 - Training Cost: 6.252115249633789\n",
      "Epoch: 1260 - Training Cost: 5.948398113250732\n",
      "Epoch: 1280 - Training Cost: 5.662868499755859\n",
      "Epoch: 1300 - Training Cost: 5.394216537475586\n",
      "Epoch: 1320 - Training Cost: 5.141247272491455\n",
      "Epoch: 1340 - Training Cost: 4.902859210968018\n",
      "Epoch: 1360 - Training Cost: 4.678050994873047\n",
      "Epoch: 1380 - Training Cost: 4.465893268585205\n",
      "Epoch: 1400 - Training Cost: 4.265532493591309\n",
      "Epoch: 1420 - Training Cost: 4.0761871337890625\n",
      "Epoch: 1440 - Training Cost: 3.8971285820007324\n",
      "Epoch: 1460 - Training Cost: 3.727694034576416\n",
      "Epoch: 1480 - Training Cost: 3.56725811958313\n",
      "Epoch: 1500 - Training Cost: 3.4152536392211914\n",
      "Epoch: 1520 - Training Cost: 3.271152973175049\n",
      "Epoch: 1540 - Training Cost: 3.134462594985962\n",
      "Epoch: 1560 - Training Cost: 3.004725456237793\n",
      "Epoch: 1580 - Training Cost: 2.8815250396728516\n",
      "Epoch: 1600 - Training Cost: 2.7644641399383545\n",
      "Epoch: 1620 - Training Cost: 2.6531822681427\n",
      "Epoch: 1640 - Training Cost: 2.547334909439087\n",
      "Epoch: 1660 - Training Cost: 2.4466071128845215\n",
      "Epoch: 1680 - Training Cost: 2.3507046699523926\n",
      "Epoch: 1700 - Training Cost: 2.2593533992767334\n",
      "Epoch: 1720 - Training Cost: 2.1722922325134277\n",
      "Epoch: 1740 - Training Cost: 2.0892856121063232\n",
      "Epoch: 1760 - Training Cost: 2.0101094245910645\n",
      "Epoch: 1780 - Training Cost: 1.9345510005950928\n",
      "Epoch: 1800 - Training Cost: 1.8624123334884644\n",
      "Epoch: 1820 - Training Cost: 1.793511986732483\n",
      "Epoch: 1840 - Training Cost: 1.7276779413223267\n",
      "Epoch: 1860 - Training Cost: 1.6647472381591797\n",
      "Epoch: 1880 - Training Cost: 1.6045681238174438\n",
      "Epoch: 1900 - Training Cost: 1.5469977855682373\n",
      "Epoch: 1920 - Training Cost: 1.4919016361236572\n",
      "Epoch: 1940 - Training Cost: 1.439154863357544\n",
      "Epoch: 1960 - Training Cost: 1.388638973236084\n",
      "Epoch: 1980 - Training Cost: 1.3402398824691772\n",
      "Training is complete!\n",
      "Final Training cost: 1.2961289882659912\n"
     ]
    }
   ],
   "source": [
    "# Initialize a session so that we can run TensorFlow operations\n",
    "with tf.Session() as session:\n",
    "\n",
    "    # Run the global variable initializer to initialize all variables and layers of the neural network\n",
    "    session.run(tf.global_variables_initializer())\n",
    "    \n",
    "    # Create log file writers to record training progress.\n",
    "    # We'll store training and testing log data separately.\n",
    "    training_writer = tf.summary.FileWriter(\"./logs/{}/training\".format(RUN_NAME), session.graph)\n",
    "    #testing_writer = tf.summary.FileWriter(\"./logs/{}/testing\".format(RUN_NAME), session.graph)\n",
    "    \n",
    "    # Run the optimizer over and over to train the network.\n",
    "    # One epoch is one full run through the training data set.\n",
    "    for epoch in range(training_epochs):\n",
    "\n",
    "        # Feed in the training data and do one step of neural network training\n",
    "        session.run(optimizer, feed_dict={X1: X1_training, X2: X2_training, Y: Y_training})\n",
    "    \n",
    "        \n",
    "        # Every 5 training steps, log our progress\n",
    "        if epoch % 20 == 0:\n",
    "            # Get the current accuracy scores by running the \"cost\" operation on the training and test data sets\n",
    "            training_cost, training_summary = session.run([cost, summary], feed_dict={X1: X1_training, X2: X2_training, Y: Y_training})\n",
    "            #testing_cost, testing_summary = session.run([cost, summary], feed_dict={X: X_scaled_testing, Y: Y_scaled_testing})\n",
    "\n",
    "            # Write the current training status to the log files (Which we can view with TensorBoard)\n",
    "            training_writer.add_summary(training_summary, epoch)\n",
    "            #testing_writer.add_summary(testing_summary, epoch)\n",
    "\n",
    "            #Print the current training status to the screen\n",
    "            print(\"Epoch: {} - Training Cost: {}\".format(epoch, training_cost))\n",
    "\n",
    "            \n",
    "    # Training is now complete!\n",
    "    print(\"Training is complete!\")\n",
    "    final_training_cost = session.run(cost, feed_dict={X1: X1_training, X2: X2_training, Y: Y_training})\n",
    "    #final_testing_cost = session.run(cost, feed_dict={X: X_scaled_testing, Y: Y_scaled_testing})\n",
    "\n",
    "    print(\"Final Training cost: {}\".format(final_training_cost))\n",
    "    #print(\"Final Testing cost: {}\".format(final_testing_cost))\n",
    "\n",
    "    # Close the logging writer, otherwise the tensorboard will fail to plot\n",
    "    training_writer.close()\n",
    "    #testing_writer.close()\n",
    "    embeddings_val = embeddings.eval()"
   ]
  },
  {
   "cell_type": "code",
   "execution_count": 39,
   "metadata": {},
   "outputs": [
    {
     "data": {
      "text/plain": [
       "(100, 32)"
      ]
     },
     "execution_count": 39,
     "metadata": {},
     "output_type": "execute_result"
    }
   ],
   "source": [
    "# Shape\n",
    "embeddings_val.shape"
   ]
  },
  {
   "cell_type": "markdown",
   "metadata": {},
   "source": [
    "# t-SNE plot"
   ]
  },
  {
   "cell_type": "code",
   "execution_count": 40,
   "metadata": {},
   "outputs": [],
   "source": [
    "from sklearn.manifold import TSNE\n",
    "import matplotlib.pyplot as plt\n",
    "def tsne_plot(embedding, fileName):\n",
    "    \"Creates and TSNE model and plots it\"\n",
    "    labels = []\n",
    "    tokens = []\n",
    "\n",
    "    for i in range(len(embedding)):\n",
    "        tokens.append(embedding[i])\n",
    "        labels.append(i)\n",
    "    \n",
    "    tsne_model = TSNE(perplexity=25, n_components=2, init='pca', n_iter=2500, random_state=0)\n",
    "    new_values = tsne_model.fit_transform(tokens)\n",
    "\n",
    "    x = []\n",
    "    y = []\n",
    "    for value in new_values:\n",
    "        x.append(value[0])\n",
    "        y.append(value[1])\n",
    "        \n",
    "    plt.figure(figsize=(15, 15)) \n",
    "    for i in range(len(x)):\n",
    "        plt.scatter(x[i],y[i])\n",
    "        plt.annotate(labels[i],\n",
    "                     xy=(x[i], y[i]),\n",
    "                     xytext=(10, 4),\n",
    "                     textcoords='offset points',\n",
    "                     fontsize=13,\n",
    "                     ha='right',\n",
    "                     va='bottom')\n",
    "\n",
    "    \n",
    "    plt.savefig(fileName, dpi=300)\n",
    "    plt.show()\n",
    "    return x, y, labels"
   ]
  },
  {
   "cell_type": "code",
   "execution_count": 41,
   "metadata": {},
   "outputs": [
    {
     "data": {
      "image/png": "[encoded data removed]",
      "text/plain": [
       "<matplotlib.figure.Figure at 0x13fd0b860>"
      ]
     },
     "metadata": {
      "needs_background": "light"
     },
     "output_type": "display_data"
    }
   ],
   "source": [
    "x, y, labels = tsne_plot(embeddings_val, \"tsne_odd_even.png\")"
   ]
  },
  {
   "cell_type": "code",
   "execution_count": null,
   "metadata": {},
   "outputs": [],
   "source": []
  }
 ],
 "metadata": {
  "kernelspec": {
   "display_name": "Python 3",
   "language": "python",
   "name": "python3"
  },
  "language_info": {
   "codemirror_mode": {
    "name": "ipython",
    "version": 3
   },
   "file_extension": ".py",
   "mimetype": "text/x-python",
   "name": "python",
   "nbconvert_exporter": "python",
   "pygments_lexer": "ipython3",
   "version": "3.6.10"
  }
 },
 "nbformat": 4,
 "nbformat_minor": 4
}
