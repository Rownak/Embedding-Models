{
 "cells": [
  {
   "cell_type": "code",
   "execution_count": 1,
   "metadata": {},
   "outputs": [
    {
     "name": "stdout",
     "output_type": "stream",
     "text": [
      "WARNING:tensorflow:From /Users/afarhan/opt/anaconda3/envs/dynamic_embedding/lib/python3.6/site-packages/tensorflow_core/python/compat/v2_compat.py:65: disable_resource_variables (from tensorflow.python.ops.variable_scope) is deprecated and will be removed in a future version.\n",
      "Instructions for updating:\n",
      "non-resource variables are not supported in the long term\n"
     ]
    }
   ],
   "source": [
    "import tensorflow.compat.v1 as tf\n",
    "tf.disable_v2_behavior()\n",
    "tf.disable_eager_execution()\n",
    "import pandas as pd\n",
    "from sklearn.preprocessing import MinMaxScaler"
   ]
  },
  {
   "cell_type": "markdown",
   "metadata": {},
   "source": [
    "# Dataset Creation"
   ]
  },
  {
   "cell_type": "markdown",
   "metadata": {},
   "source": [
    "# Dataset\n",
    "the distances between even numbers are 0\n",
    "\n",
    "the distances between odd numbers are 0\n",
    "\n",
    "the distances between a even and a odd number is 1\n"
   ]
  },
  {
   "cell_type": "code",
   "execution_count": 2,
   "metadata": {},
   "outputs": [],
   "source": [
    "import random\n",
    "count = 0\n",
    "couples = []\n",
    "TRAIN_SIZE = 2000\n",
    "while(count<TRAIN_SIZE//3):\n",
    "    r1 = random.randint(0, 99)\n",
    "    r2=r1\n",
    "    while(r2==r1 or r1%2!=r2%2):\n",
    "        r2 = random.randint(0, 99)\n",
    "    couples.append([r1, r2, 0])\n",
    "    count+=1\n",
    "while(count<TRAIN_SIZE):\n",
    "    r1 = random.randint(0, 99)\n",
    "    r2=r1\n",
    "    while(r2==r1 or r1%2==r2%2):\n",
    "        r2 = random.randint(0, 99)\n",
    "    couples.append([r1, r2, 1])\n",
    "    count+=1"
   ]
  },
  {
   "cell_type": "code",
   "execution_count": null,
   "metadata": {},
   "outputs": [],
   "source": []
  },
  {
   "cell_type": "code",
   "execution_count": 3,
   "metadata": {},
   "outputs": [
    {
     "data": {
      "text/plain": [
       "(2000, 3)"
      ]
     },
     "execution_count": 3,
     "metadata": {},
     "output_type": "execute_result"
    }
   ],
   "source": [
    "import numpy as np\n",
    "couples = np.array(couples)\n",
    "np.random.shuffle(couples)\n",
    "couples.shape"
   ]
  },
  {
   "cell_type": "code",
   "execution_count": null,
   "metadata": {},
   "outputs": [],
   "source": []
  },
  {
   "cell_type": "markdown",
   "metadata": {},
   "source": [
    "# Insert data into pandas"
   ]
  },
  {
   "cell_type": "code",
   "execution_count": 4,
   "metadata": {},
   "outputs": [
    {
     "data": {
      "text/plain": [
       "'\\nX_training and Y_training can be obtained directly from couples numpy array  \\nPanda is used only to show how one can read data from csv file\\n'"
      ]
     },
     "execution_count": 4,
     "metadata": {},
     "output_type": "execute_result"
    }
   ],
   "source": [
    "\n",
    "import pandas as pd\n",
    "training_data_df = pd.DataFrame(couples, columns = ['obj1','obj2','dist'])\n",
    "\n",
    "\"\"\"\n",
    "X_training and Y_training can be obtained directly from couples numpy array  \n",
    "Panda is used only to show how one can read data from csv file\n",
    "\"\"\"\n",
    "# If your train data is a csv file, load training data set from CSV file into panda dataframe\n",
    "# training_data_df = pd.read_csv(\"sales_data_training.csv\", dtype=float)"
   ]
  },
  {
   "cell_type": "code",
   "execution_count": 5,
   "metadata": {},
   "outputs": [],
   "source": [
    "# Pull out columns for X (data to train with) and Y (value to predict)\n",
    "X_training = training_data_df.drop('dist', axis=1).values\n",
    "Y_training = training_data_df[['dist']].values"
   ]
  },
  {
   "cell_type": "code",
   "execution_count": 6,
   "metadata": {},
   "outputs": [
    {
     "name": "stdout",
     "output_type": "stream",
     "text": [
      "X_training shape: (2000,)\n",
      "Y_training shape: (2000, 1)\n"
     ]
    }
   ],
   "source": [
    "# Reshaping the data\n",
    "# X_training is: [[0,2], [1, 3], [4,5], .....]\n",
    "# X1_training: [0, 1, 4, ....]\n",
    "# X2_training: [2, 3, 5, ....]\n",
    "\n",
    "X1_training = X_training.T[0]\n",
    "X2_training = X_training.T[1]\n",
    "print(\"X_training shape:\",X1_training.shape)\n",
    "print(\"Y_training shape:\",Y_training.shape)"
   ]
  },
  {
   "cell_type": "code",
   "execution_count": null,
   "metadata": {},
   "outputs": [],
   "source": []
  },
  {
   "cell_type": "code",
   "execution_count": 7,
   "metadata": {},
   "outputs": [],
   "source": [
    "TOTAL_OBJECTS = 100\n",
    "EMBEDDING_DIM = 32\n",
    "SCALE_FACTOR = 1"
   ]
  },
  {
   "cell_type": "code",
   "execution_count": 8,
   "metadata": {},
   "outputs": [],
   "source": [
    "# Input Layer\n",
    "with tf.variable_scope('input'):\n",
    "    X1 = tf.placeholder(tf.int32, shape=(None,))\n",
    "    X2 = tf.placeholder(tf.int32, shape=(None,))"
   ]
  },
  {
   "cell_type": "code",
   "execution_count": 9,
   "metadata": {},
   "outputs": [
    {
     "name": "stdout",
     "output_type": "stream",
     "text": [
      "WARNING:tensorflow:From <ipython-input-9-3b21489ab776>:4: calling RandomUniform.__init__ (from tensorflow.python.ops.init_ops) with dtype is deprecated and will be removed in a future version.\n",
      "Instructions for updating:\n",
      "Call initializer instance with the dtype argument instead of passing it to the constructor\n"
     ]
    }
   ],
   "source": [
    "# Embeddings Layer\n",
    "with tf.variable_scope('embeddings_layer'):\n",
    "    embeddings = tf.get_variable(name=\"embeddings\", shape=[TOTAL_OBJECTS, EMBEDDING_DIM], initializer = tf.random_uniform_initializer(\n",
    "    minval=0, maxval=1, seed=None, dtype=tf.dtypes.float32))"
   ]
  },
  {
   "cell_type": "code",
   "execution_count": 10,
   "metadata": {},
   "outputs": [
    {
     "name": "stdout",
     "output_type": "stream",
     "text": [
      "[[0.33279347 0.43888867 0.97310185 ... 0.83700085 0.682415   0.02571166]\n",
      " [0.2278074  0.60964036 0.34233928 ... 0.99888456 0.39582586 0.3805138 ]\n",
      " [0.84850144 0.15930915 0.5591357  ... 0.38542616 0.6284666  0.56237006]\n",
      " ...\n",
      " [0.78975284 0.67512417 0.82297146 ... 0.8106326  0.29627633 0.6707978 ]\n",
      " [0.58619034 0.6601151  0.7019329  ... 0.7530787  0.9015378  0.35404646]\n",
      " [0.21936238 0.63927424 0.31476808 ... 0.6245241  0.8309356  0.07837987]]\n"
     ]
    }
   ],
   "source": [
    "with tf.Session() as session:\n",
    "    session.run(tf.global_variables_initializer())\n",
    "    print(embeddings.eval())"
   ]
  },
  {
   "cell_type": "code",
   "execution_count": 11,
   "metadata": {},
   "outputs": [],
   "source": [
    "# Output Layer\n",
    "with tf.variable_scope('output'):\n",
    "    # getting the embeddings of current and neighbor objects\n",
    "    \"\"\"\n",
    "    # Select the embedding (obj_1) and context (obj_2) vectors for the current timestamp\n",
    "    for example: if obj1= [0,1,2] and timeslot = [0,0,0]\n",
    "    tf.stack([[0,1,2],[0,0,0], axis=1]) = tf.Tensor:shape=(3,2),\n",
    "    numpy.array[[0,0],\n",
    "                [1,0],\n",
    "                [2,0]]\n",
    "    col1=obj1, col2=timeslot\n",
    "    embeddings = [[[e_o0_t0],[e_o0_t1],[e_o0_t2]],\n",
    "                  [[e_o1_t0],[e_o1_t1],[e_o1_t2]],\n",
    "                  [[e_o2_t0],[e_o2_t1],[e_o2_t2]]]\n",
    "    tf.gather_nd(embeddings, tf.stack([obj1, timeslot], axis=1)) = [e_o0_t0, e_o1_t0, e_o2_t0]\n",
    "    obj1_embedding = tf.gather_nd(embeddings, tf.stack([X1, Timestamp], axis=1))\n",
    "    obj2_embedding = tf.gather_nd(embeddings, tf.stack([X2, Timestamp], axis=1))\n",
    "    \"\"\"\n",
    "    obj1_embedding = tf.gather_nd(embeddings, tf.stack([X1], axis=1))\n",
    "    obj2_embedding = tf.gather_nd(embeddings, tf.stack([X2], axis=1))\n",
    "    prediction = tf.scalar_mul(SCALE_FACTOR,\n",
    "                               tf.losses.cosine_distance(tf.nn.l2_normalize(obj1_embedding, axis=1),\n",
    "                                                         tf.nn.l2_normalize(obj2_embedding, axis=1),\n",
    "                                                         axis=1, reduction=tf.losses.Reduction.NONE))"
   ]
  },
  {
   "cell_type": "code",
   "execution_count": 12,
   "metadata": {},
   "outputs": [],
   "source": [
    "# Section Two: Define the cost function of the neural network that will measure prediction accuracy during training\n",
    "with tf.variable_scope('cost'):\n",
    "    Y = tf.placeholder(tf.float32, shape=(None,1))\n",
    "    cost = tf.losses.mean_squared_error(\n",
    "        labels=tf.scalar_mul(SCALE_FACTOR, Y),\n",
    "        predictions=prediction,\n",
    "        reduction=tf.losses.Reduction.SUM)"
   ]
  },
  {
   "cell_type": "code",
   "execution_count": 13,
   "metadata": {},
   "outputs": [],
   "source": [
    "learning_rate = 0.001"
   ]
  },
  {
   "cell_type": "code",
   "execution_count": 14,
   "metadata": {},
   "outputs": [],
   "source": [
    "# Section Three: Define the optimizer function that will be run to optimize the neural network\n",
    "with tf.variable_scope('train'):\n",
    "    optimizer = tf.train.AdamOptimizer(learning_rate).minimize(cost)"
   ]
  },
  {
   "cell_type": "code",
   "execution_count": 15,
   "metadata": {},
   "outputs": [],
   "source": [
    "# Create a summary operation to log the progress of the network\n",
    "with tf.variable_scope('logging'):\n",
    "    tf.summary.scalar('current_cost', cost)\n",
    "    tf.summary.histogram('predicted_value', prediction)\n",
    "    summary = tf.summary.merge_all()"
   ]
  },
  {
   "cell_type": "code",
   "execution_count": 16,
   "metadata": {},
   "outputs": [],
   "source": [
    "RUN_NAME = \"run 1 with 100 epoches\"\n",
    "training_epochs = 2000"
   ]
  },
  {
   "cell_type": "code",
   "execution_count": 17,
   "metadata": {},
   "outputs": [
    {
     "name": "stdout",
     "output_type": "stream",
     "text": [
      "Epoch: 0 - Training Cost: 785.8309326171875\n",
      "Epoch: 20 - Training Cost: 742.608154296875\n",
      "Epoch: 40 - Training Cost: 700.3106079101562\n",
      "Epoch: 60 - Training Cost: 659.5155639648438\n",
      "Epoch: 80 - Training Cost: 620.587646484375\n",
      "Epoch: 100 - Training Cost: 583.6615600585938\n",
      "Epoch: 120 - Training Cost: 548.7095336914062\n",
      "Epoch: 140 - Training Cost: 515.5428466796875\n",
      "Epoch: 160 - Training Cost: 483.83929443359375\n",
      "Epoch: 180 - Training Cost: 453.22271728515625\n",
      "Epoch: 200 - Training Cost: 423.3299865722656\n",
      "Epoch: 220 - Training Cost: 393.864013671875\n",
      "Epoch: 240 - Training Cost: 364.63739013671875\n",
      "Epoch: 260 - Training Cost: 335.5992431640625\n",
      "Epoch: 280 - Training Cost: 306.8434143066406\n",
      "Epoch: 300 - Training Cost: 278.593994140625\n",
      "Epoch: 320 - Training Cost: 251.16964721679688\n",
      "Epoch: 340 - Training Cost: 224.93370056152344\n",
      "Epoch: 360 - Training Cost: 200.24102783203125\n",
      "Epoch: 380 - Training Cost: 177.39125061035156\n",
      "Epoch: 400 - Training Cost: 156.5958251953125\n",
      "Epoch: 420 - Training Cost: 137.96206665039062\n",
      "Epoch: 440 - Training Cost: 121.4940185546875\n",
      "Epoch: 460 - Training Cost: 107.10664367675781\n",
      "Epoch: 480 - Training Cost: 94.64801025390625\n",
      "Epoch: 500 - Training Cost: 83.9241714477539\n",
      "Epoch: 520 - Training Cost: 74.72241973876953\n",
      "Epoch: 540 - Training Cost: 66.83019256591797\n",
      "Epoch: 560 - Training Cost: 60.04832458496094\n",
      "Epoch: 580 - Training Cost: 54.198997497558594\n",
      "Epoch: 600 - Training Cost: 49.12895965576172\n",
      "Epoch: 620 - Training Cost: 44.70948791503906\n",
      "Epoch: 640 - Training Cost: 40.8343620300293\n",
      "Epoch: 660 - Training Cost: 37.4168701171875\n",
      "Epoch: 680 - Training Cost: 34.386436462402344\n",
      "Epoch: 700 - Training Cost: 31.685657501220703\n",
      "Epoch: 720 - Training Cost: 29.267621994018555\n",
      "Epoch: 740 - Training Cost: 27.093708038330078\n",
      "Epoch: 760 - Training Cost: 25.131935119628906\n",
      "Epoch: 780 - Training Cost: 23.35555648803711\n",
      "Epoch: 800 - Training Cost: 21.7420654296875\n",
      "Epoch: 820 - Training Cost: 20.27236557006836\n",
      "Epoch: 840 - Training Cost: 18.930164337158203\n",
      "Epoch: 860 - Training Cost: 17.701459884643555\n",
      "Epoch: 880 - Training Cost: 16.574176788330078\n",
      "Epoch: 900 - Training Cost: 15.537836074829102\n",
      "Epoch: 920 - Training Cost: 14.58327865600586\n",
      "Epoch: 940 - Training Cost: 13.702510833740234\n",
      "Epoch: 960 - Training Cost: 12.888479232788086\n",
      "Epoch: 980 - Training Cost: 12.134979248046875\n",
      "Epoch: 1000 - Training Cost: 11.436487197875977\n",
      "Epoch: 1020 - Training Cost: 10.788110733032227\n",
      "Epoch: 1040 - Training Cost: 10.185468673706055\n",
      "Epoch: 1060 - Training Cost: 9.624649047851562\n",
      "Epoch: 1080 - Training Cost: 9.10214900970459\n",
      "Epoch: 1100 - Training Cost: 8.614790916442871\n",
      "Epoch: 1120 - Training Cost: 8.159740447998047\n",
      "Epoch: 1140 - Training Cost: 7.734408855438232\n",
      "Epoch: 1160 - Training Cost: 7.336467266082764\n",
      "Epoch: 1180 - Training Cost: 6.963800430297852\n",
      "Epoch: 1200 - Training Cost: 6.614476203918457\n",
      "Epoch: 1220 - Training Cost: 6.286749362945557\n",
      "Epoch: 1240 - Training Cost: 5.979016304016113\n",
      "Epoch: 1260 - Training Cost: 5.689816951751709\n",
      "Epoch: 1280 - Training Cost: 5.417817115783691\n",
      "Epoch: 1300 - Training Cost: 5.1617937088012695\n",
      "Epoch: 1320 - Training Cost: 4.9206223487854\n",
      "Epoch: 1340 - Training Cost: 4.6932759284973145\n",
      "Epoch: 1360 - Training Cost: 4.478808879852295\n",
      "Epoch: 1380 - Training Cost: 4.276345729827881\n",
      "Epoch: 1400 - Training Cost: 4.085088729858398\n",
      "Epoch: 1420 - Training Cost: 3.904294013977051\n",
      "Epoch: 1440 - Training Cost: 3.7332804203033447\n",
      "Epoch: 1460 - Training Cost: 3.5714170932769775\n",
      "Epoch: 1480 - Training Cost: 3.4181203842163086\n",
      "Epoch: 1500 - Training Cost: 3.272848606109619\n",
      "Epoch: 1520 - Training Cost: 3.135101556777954\n",
      "Epoch: 1540 - Training Cost: 3.0044145584106445\n",
      "Epoch: 1560 - Training Cost: 2.880354166030884\n",
      "Epoch: 1580 - Training Cost: 2.762526512145996\n",
      "Epoch: 1600 - Training Cost: 2.6505517959594727\n",
      "Epoch: 1620 - Training Cost: 2.5440917015075684\n",
      "Epoch: 1640 - Training Cost: 2.442814350128174\n",
      "Epoch: 1660 - Training Cost: 2.3464255332946777\n",
      "Epoch: 1680 - Training Cost: 2.254643440246582\n",
      "Epoch: 1700 - Training Cost: 2.1672043800354004\n",
      "Epoch: 1720 - Training Cost: 2.0838663578033447\n",
      "Epoch: 1740 - Training Cost: 2.0043978691101074\n",
      "Epoch: 1760 - Training Cost: 1.9285905361175537\n",
      "Epoch: 1780 - Training Cost: 1.8562395572662354\n",
      "Epoch: 1800 - Training Cost: 1.7871582508087158\n",
      "Epoch: 1820 - Training Cost: 1.7211737632751465\n",
      "Epoch: 1840 - Training Cost: 1.6581186056137085\n",
      "Epoch: 1860 - Training Cost: 1.5978410243988037\n",
      "Epoch: 1880 - Training Cost: 1.5401934385299683\n",
      "Epoch: 1900 - Training Cost: 1.485044240951538\n",
      "Epoch: 1920 - Training Cost: 1.4322606325149536\n",
      "Epoch: 1940 - Training Cost: 1.3817232847213745\n",
      "Epoch: 1960 - Training Cost: 1.3333196640014648\n",
      "Epoch: 1980 - Training Cost: 1.286945104598999\n",
      "Training is complete!\n",
      "Final Training cost: 1.244673252105713\n"
     ]
    }
   ],
   "source": [
    "# Initialize a session so that we can run TensorFlow operations\n",
    "with tf.Session() as session:\n",
    "\n",
    "    # Run the global variable initializer to initialize all variables and layers of the neural network\n",
    "    session.run(tf.global_variables_initializer())\n",
    "    \n",
    "    # Create log file writers to record training progress.\n",
    "    # We'll store training and testing log data separately.\n",
    "    training_writer = tf.summary.FileWriter(\"./logs/{}/training\".format(RUN_NAME), session.graph)\n",
    "    #testing_writer = tf.summary.FileWriter(\"./logs/{}/testing\".format(RUN_NAME), session.graph)\n",
    "    \n",
    "    # Run the optimizer over and over to train the network.\n",
    "    # One epoch is one full run through the training data set.\n",
    "    for epoch in range(training_epochs):\n",
    "\n",
    "        # Feed in the training data and do one step of neural network training\n",
    "        session.run(optimizer, feed_dict={X1: X1_training, X2: X2_training, Y: Y_training})\n",
    "    \n",
    "        \n",
    "        # Every 5 training steps, log our progress\n",
    "        if epoch % 20 == 0:\n",
    "            # Get the current accuracy scores by running the \"cost\" operation on the training and test data sets\n",
    "            training_cost, training_summary = session.run([cost, summary], feed_dict={X1: X1_training, X2: X2_training, Y: Y_training})\n",
    "            #testing_cost, testing_summary = session.run([cost, summary], feed_dict={X: X_scaled_testing, Y: Y_scaled_testing})\n",
    "\n",
    "            # Write the current training status to the log files (Which we can view with TensorBoard)\n",
    "            training_writer.add_summary(training_summary, epoch)\n",
    "            #testing_writer.add_summary(testing_summary, epoch)\n",
    "\n",
    "            #Print the current training status to the screen\n",
    "            print(\"Epoch: {} - Training Cost: {}\".format(epoch, training_cost))\n",
    "\n",
    "            \n",
    "    # Training is now complete!\n",
    "    print(\"Training is complete!\")\n",
    "    final_training_cost = session.run(cost, feed_dict={X1: X1_training, X2: X2_training, Y: Y_training})\n",
    "    #final_testing_cost = session.run(cost, feed_dict={X: X_scaled_testing, Y: Y_scaled_testing})\n",
    "\n",
    "    print(\"Final Training cost: {}\".format(final_training_cost))\n",
    "    #print(\"Final Testing cost: {}\".format(final_testing_cost))\n",
    "\n",
    "    # Close the logging writer, otherwise the tensorboard will fail to plot\n",
    "    training_writer.close()\n",
    "    #testing_writer.close()\n",
    "    embeddings_val = embeddings.eval()"
   ]
  },
  {
   "cell_type": "code",
   "execution_count": 18,
   "metadata": {},
   "outputs": [
    {
     "data": {
      "text/plain": [
       "(100, 32)"
      ]
     },
     "execution_count": 18,
     "metadata": {},
     "output_type": "execute_result"
    }
   ],
   "source": [
    "# Shape\n",
    "embeddings_val.shape"
   ]
  },
  {
   "cell_type": "markdown",
   "metadata": {},
   "source": [
    "# t-SNE plot"
   ]
  },
  {
   "cell_type": "code",
   "execution_count": 19,
   "metadata": {},
   "outputs": [],
   "source": [
    "from sklearn.manifold import TSNE\n",
    "import matplotlib.pyplot as plt\n",
    "def tsne_plot(embedding, fileName):\n",
    "    \"Creates and TSNE model and plots it\"\n",
    "    labels = []\n",
    "    tokens = []\n",
    "\n",
    "    for i in range(len(embedding)):\n",
    "        tokens.append(embedding[i])\n",
    "        labels.append(i)\n",
    "    \n",
    "    tsne_model = TSNE(perplexity=25, n_components=2, init='pca', n_iter=2500, random_state=0)\n",
    "    new_values = tsne_model.fit_transform(tokens)\n",
    "\n",
    "    x = []\n",
    "    y = []\n",
    "    for value in new_values:\n",
    "        x.append(value[0])\n",
    "        y.append(value[1])\n",
    "        \n",
    "    plt.figure(figsize=(15, 15)) \n",
    "    for i in range(len(x)):\n",
    "        plt.scatter(x[i],y[i])\n",
    "        plt.annotate(labels[i],\n",
    "                     xy=(x[i], y[i]),\n",
    "                     xytext=(10, 4),\n",
    "                     textcoords='offset points',\n",
    "                     fontsize=13,\n",
    "                     ha='right',\n",
    "                     va='bottom')\n",
    "\n",
    "    \n",
    "    plt.savefig(fileName, dpi=300)\n",
    "    plt.show()\n",
    "    return x, y, labels"
   ]
  },
  {
   "cell_type": "code",
   "execution_count": 20,
   "metadata": {},
   "outputs": [
    {
     "data": {
      "image/png": "[encoded data removed]",
      "text/plain": [
       "<matplotlib.figure.Figure at 0x13510b8d0>"
      ]
     },
     "metadata": {
      "needs_background": "light"
     },
     "output_type": "display_data"
    }
   ],
   "source": [
    "x, y, labels = tsne_plot(embeddings_val, \"tsne_odd_even.png\")"
   ]
  },
  {
   "cell_type": "code",
   "execution_count": null,
   "metadata": {},
   "outputs": [],
   "source": []
  }
 ],
 "metadata": {
  "kernelspec": {
   "display_name": "Python 3",
   "language": "python",
   "name": "python3"
  },
  "language_info": {
   "codemirror_mode": {
    "name": "ipython",
    "version": 3
   },
   "file_extension": ".py",
   "mimetype": "text/x-python",
   "name": "python",
   "nbconvert_exporter": "python",
   "pygments_lexer": "ipython3",
   "version": "3.6.10"
  }
 },
 "nbformat": 4,
 "nbformat_minor": 4
}
